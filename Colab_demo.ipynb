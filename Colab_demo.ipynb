{
  "nbformat": 4,
  "nbformat_minor": 0,
  "metadata": {
    "colab": {
      "provenance": [],
      "authorship_tag": "ABX9TyM0HyAOo91/v9B0tcBNINWj",
      "include_colab_link": true
    },
    "kernelspec": {
      "name": "python3",
      "display_name": "Python 3"
    },
    "language_info": {
      "name": "python"
    }
  },
  "cells": [
    {
      "cell_type": "markdown",
      "metadata": {
        "id": "view-in-github",
        "colab_type": "text"
      },
      "source": [
        "<a href=\"https://colab.research.google.com/github/z1g1/notebooks/blob/main/Colab_demo.ipynb\" target=\"_parent\"><img src=\"https://colab.research.google.com/assets/colab-badge.svg\" alt=\"Open In Colab\"/></a>"
      ]
    },
    {
      "cell_type": "code",
      "execution_count": null,
      "metadata": {
        "id": "ZNJhX5CvEgpQ"
      },
      "outputs": [],
      "source": [
        "#@title Python Imports\n",
        "\n",
        "# Interact with Google drive, and auth for google sheets\n",
        "from google.colab import drive, auth\n",
        "\n",
        "# authenticate to Google Sheets \n",
        "from google.auth import default\n",
        "\n",
        "# python library for working with Google Sheets \n",
        "import gspread\n",
        "\n",
        "# create python data frames\n",
        "import pandas as pd\n",
        "\n"
      ]
    },
    {
      "cell_type": "code",
      "source": [
        "#@title Access the Sample Data\n",
        "\n",
        "#access the test data\n",
        "input_file = '/content/sample_data/california_housing_test.csv'\n",
        "\n",
        "#create a pandas dataframe\n",
        "df = pd.read_csv(input_file)\n",
        "\n",
        "df.shape\n"
      ],
      "metadata": {
        "id": "CcuTMX2cTayx"
      },
      "execution_count": null,
      "outputs": []
    },
    {
      "cell_type": "code",
      "source": [],
      "metadata": {
        "colab": {
          "base_uri": "https://localhost:8080/"
        },
        "id": "ZRfo8dcsWi3n",
        "outputId": "04bb180d-3269-45ce-d812-5856dec2b9fe"
      },
      "execution_count": null,
      "outputs": [
        {
          "output_type": "execute_result",
          "data": {
            "text/plain": [
              "(3000, 9)"
            ]
          },
          "metadata": {},
          "execution_count": 10
        }
      ]
    },
    {
      "cell_type": "code",
      "source": [
        "#@title Autheticate to Google\n",
        "#authorize your notebook to access your Google Account\n",
        "auth.authenticate_user()\n",
        "creds, _ = default()\n",
        "gc = gspread.authorize(creds)\n"
      ],
      "metadata": {
        "id": "b9zk4hhRYSvl"
      },
      "execution_count": null,
      "outputs": []
    },
    {
      "cell_type": "code",
      "source": [
        "#@title Create a Google Sheet and write the data\n",
        "\n",
        "#shape of the dataframe will be used to set the worksheet inside Google Sheets\n",
        "rows = df.shape[0]\n",
        "cols = df.shape[1]\n",
        "\n",
        "#create a new Google Sheet\n",
        "sh = gc.create('California Housing Data')\n",
        "\n",
        "#create a worksheet for the data \n",
        "worksheet = sh.add_worksheet(title=\"Data\", rows=rows, cols=cols)\n",
        "\n",
        "#write the data to Google Sheets\n",
        "worksheet.update([df.columns.values.tolist()] + df.values.tolist())\n",
        "\n",
        "print('{} rows written to Google Sheet {}'.format(\n",
        "    rows,\n",
        "    sh.url,\n",
        "  )\n",
        ")"
      ],
      "metadata": {
        "colab": {
          "base_uri": "https://localhost:8080/"
        },
        "id": "EG8fSl0qZNoW",
        "outputId": "853dafb7-aa35-4740-cbf5-0fcc5ab6689c"
      },
      "execution_count": null,
      "outputs": [
        {
          "output_type": "stream",
          "name": "stdout",
          "text": [
            "3000 rows written to Google Sheet https://docs.google.com/spreadsheets/d/1BjqFkAoefjpsZK-YTi5bZo2feJUUzDl8dqhVhPPYF7o\n"
          ]
        }
      ]
    },
    {
      "cell_type": "code",
      "source": [
        "#@title Digging into worksheet.update\n",
        "worksheet = sh.sheet1\n",
        "\n",
        "data = [[1,1],[2,1],[3,1]]\n",
        "\n",
        "worksheet.update(data)"
      ],
      "metadata": {
        "colab": {
          "base_uri": "https://localhost:8080/"
        },
        "id": "cwL5hRjHagnn",
        "outputId": "07fc6585-6820-4ba3-9d0a-3d7c28b88b65"
      },
      "execution_count": null,
      "outputs": [
        {
          "output_type": "execute_result",
          "data": {
            "text/plain": [
              "{'spreadsheetId': '1BjqFkAoefjpsZK-YTi5bZo2feJUUzDl8dqhVhPPYF7o',\n",
              " 'updatedRange': 'Sheet1!A1:B3',\n",
              " 'updatedRows': 3,\n",
              " 'updatedColumns': 2,\n",
              " 'updatedCells': 6}"
            ]
          },
          "metadata": {},
          "execution_count": 37
        }
      ]
    },
    {
      "cell_type": "code",
      "source": [
        "#@title Showing the columns as a list and data as list of lists\n",
        "columns = df.columns.values.tolist()\n",
        "rows = df.values.tolist()\n",
        "data = [columns]\n",
        "data += rows\n",
        "\n",
        "print(len(data))"
      ],
      "metadata": {
        "colab": {
          "base_uri": "https://localhost:8080/"
        },
        "id": "y1xUhUwudN0b",
        "outputId": "995263ec-f9eb-4fb6-b015-f009d4e9f992"
      },
      "execution_count": null,
      "outputs": [
        {
          "output_type": "stream",
          "name": "stdout",
          "text": [
            "3001\n"
          ]
        }
      ]
    },
    {
      "cell_type": "code",
      "source": [],
      "metadata": {
        "colab": {
          "base_uri": "https://localhost:8080/",
          "height": 168
        },
        "id": "vLhimRpXflMh",
        "outputId": "4d55d8b4-fec7-4f10-a9ac-a513a4aaae31"
      },
      "execution_count": null,
      "outputs": [
        {
          "output_type": "error",
          "ename": "TypeError",
          "evalue": "ignored",
          "traceback": [
            "\u001b[0;31m---------------------------------------------------------------------------\u001b[0m",
            "\u001b[0;31mTypeError\u001b[0m                                 Traceback (most recent call last)",
            "\u001b[0;32m<ipython-input-40-79c83efb9910>\u001b[0m in \u001b[0;36m<module>\u001b[0;34m\u001b[0m\n\u001b[0;32m----> 1\u001b[0;31m \u001b[0mdf\u001b[0m\u001b[0;34m.\u001b[0m\u001b[0mindex\u001b[0m\u001b[0;34m(\u001b[0m\u001b[0;34m)\u001b[0m\u001b[0;34m\u001b[0m\u001b[0;34m\u001b[0m\u001b[0m\n\u001b[0m",
            "\u001b[0;31mTypeError\u001b[0m: 'RangeIndex' object is not callable"
          ]
        }
      ]
    }
  ]
}